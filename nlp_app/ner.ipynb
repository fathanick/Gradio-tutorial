{
 "cells": [
  {
   "cell_type": "code",
   "execution_count": 1,
   "metadata": {},
   "outputs": [
    {
     "name": "stderr",
     "output_type": "stream",
     "text": [
      "2024-05-16 22:15:36.223060: I tensorflow/core/platform/cpu_feature_guard.cc:193] This TensorFlow binary is optimized with oneAPI Deep Neural Network Library (oneDNN) to use the following CPU instructions in performance-critical operations:  AVX2 FMA\n",
      "To enable them in other operations, rebuild TensorFlow with the appropriate compiler flags.\n"
     ]
    }
   ],
   "source": [
    "from transformers import pipeline"
   ]
  },
  {
   "cell_type": "code",
   "execution_count": 2,
   "metadata": {},
   "outputs": [],
   "source": [
    "# Named Entity Recognition\n",
    "def ner(input):\n",
    "    cls_ner = pipeline(\"ner\",\n",
    "                       model=\"AptaArkana/indonesian_nergrit_bert_base_multilingual_cased\",\n",
    "                       tokenizer=\"AptaArkana/indonesian_nergrit_bert_base_multilingual_cased\",\n",
    "                       aggregation_strategy=\"simple\")\n",
    "\n",
    "    entity_result = cls_ner(input)\n",
    "    \n",
    "    result_text = input\n",
    "    for entity in entity_result:\n",
    "        entity_text = entity['word']\n",
    "        entity_label = entity['entity_group']\n",
    "        result_text = result_text.replace(entity_text, f\"{entity_text} [{entity_label}]\")\n",
    "    \n",
    "    return result_text    "
   ]
  },
  {
   "cell_type": "code",
   "execution_count": 3,
   "metadata": {},
   "outputs": [
    {
     "name": "stderr",
     "output_type": "stream",
     "text": [
      "/Users/ahmadfathanhidayatullah/.conda/envs/WEB_APP/lib/python3.10/site-packages/huggingface_hub/file_download.py:1132: FutureWarning: `resume_download` is deprecated and will be removed in version 1.0.0. Downloads always resume when possible. If you want to force a new download, use `force_download=True`.\n",
      "  warnings.warn(\n"
     ]
    }
   ],
   "source": [
    "stc = \"Indonesia merdeka pada 17 Agustus 1945 dan Soekarno adalah presiden pertamanya.\"\n",
    "\n",
    "res = ner(stc)"
   ]
  },
  {
   "cell_type": "code",
   "execution_count": 4,
   "metadata": {},
   "outputs": [
    {
     "data": {
      "text/plain": [
       "'Indonesia [GPE] merdeka pada 17 Agustus 1945 [DAT] dan Soekarno [PER] adalah presiden pertamanya.'"
      ]
     },
     "execution_count": 4,
     "metadata": {},
     "output_type": "execute_result"
    }
   ],
   "source": [
    "res"
   ]
  },
  {
   "cell_type": "code",
   "execution_count": null,
   "metadata": {},
   "outputs": [],
   "source": []
  }
 ],
 "metadata": {
  "kernelspec": {
   "display_name": "WEB_APP",
   "language": "python",
   "name": "python3"
  },
  "language_info": {
   "codemirror_mode": {
    "name": "ipython",
    "version": 3
   },
   "file_extension": ".py",
   "mimetype": "text/x-python",
   "name": "python",
   "nbconvert_exporter": "python",
   "pygments_lexer": "ipython3",
   "version": "3.10.13"
  }
 },
 "nbformat": 4,
 "nbformat_minor": 2
}
