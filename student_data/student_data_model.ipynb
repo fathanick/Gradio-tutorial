{
 "cells": [
  {
   "cell_type": "code",
   "execution_count": 1,
   "metadata": {},
   "outputs": [],
   "source": [
    "import pandas as pd\n",
    "import numpy as np\n",
    "from sklearn.linear_model import LinearRegression\n",
    "from sklearn.metrics import accuracy_score"
   ]
  },
  {
   "cell_type": "code",
   "execution_count": 2,
   "metadata": {},
   "outputs": [
    {
     "name": "stdout",
     "output_type": "stream",
     "text": [
      "Accuracy score :  0.9529481969048356 \n",
      "\n"
     ]
    }
   ],
   "source": [
    "#load the dataset to pandas dataframe\n",
    "URL = \"http://bit.ly/w-data\"\n",
    "student_data = pd.read_csv(URL)\n",
    "\n",
    "#Prepare data\n",
    "X = student_data.copy()\n",
    "y = student_data['Scores']\n",
    "del X['Scores']\n",
    "\n",
    "#create a machine learning model and train it\n",
    "lineareg = LinearRegression()\n",
    "lineareg.fit(X,y)\n",
    "print('Accuracy score : ',lineareg.score(X,y),'\\n')"
   ]
  },
  {
   "cell_type": "code",
   "execution_count": 3,
   "metadata": {},
   "outputs": [
    {
     "data": {
      "text/plain": [
       "['student_score_model.pkl']"
      ]
     },
     "execution_count": 3,
     "metadata": {},
     "output_type": "execute_result"
    }
   ],
   "source": [
    "# save model using joblib\n",
    "import joblib\n",
    "\n",
    "joblib.dump(lineareg, 'student_score_model.pkl')"
   ]
  },
  {
   "cell_type": "code",
   "execution_count": null,
   "metadata": {},
   "outputs": [],
   "source": []
  }
 ],
 "metadata": {
  "kernelspec": {
   "display_name": "WEB_APP",
   "language": "python",
   "name": "python3"
  },
  "language_info": {
   "codemirror_mode": {
    "name": "ipython",
    "version": 3
   },
   "file_extension": ".py",
   "mimetype": "text/x-python",
   "name": "python",
   "nbconvert_exporter": "python",
   "pygments_lexer": "ipython3",
   "version": "3.10.13"
  }
 },
 "nbformat": 4,
 "nbformat_minor": 2
}
