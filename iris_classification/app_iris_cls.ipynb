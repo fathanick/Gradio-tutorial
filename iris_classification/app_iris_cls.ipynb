{
 "cells": [
  {
   "cell_type": "code",
   "execution_count": 1,
   "metadata": {},
   "outputs": [],
   "source": [
    "import gradio as gr\n",
    "import joblib"
   ]
  },
  {
   "cell_type": "code",
   "execution_count": 2,
   "metadata": {},
   "outputs": [],
   "source": [
    "def predict_iris(sepal_length, sepal_width, petal_length, petal_width):\n",
    "    model = joblib.load('iris_model.pkl')\n",
    "    prediction = model.predict([[sepal_length, sepal_width, petal_length, petal_width]])\n",
    "    return prediction[0]"
   ]
  },
  {
   "cell_type": "code",
   "execution_count": 3,
   "metadata": {},
   "outputs": [],
   "source": [
    "with gr.Blocks(theme=gr.themes.Glass()) as interface:\n",
    "    gr.Interface(\n",
    "    fn=predict_iris,\n",
    "    inputs=[\n",
    "        gr.Slider(4.0, 8.0, step=0.1, label=\"Sepal Length (cm)\"),\n",
    "        gr.Slider(2.0, 4.5, step=0.1, label=\"Sepal Width (cm)\"),\n",
    "        gr.Slider(1.0, 7.0, step=0.1, label=\"Petal Length (cm)\"),\n",
    "        gr.Slider(0.1, 2.5, step=0.1, label=\"Petal Width (cm)\")\n",
    "    ],\n",
    "    outputs=gr.Textbox(label=\"Predicted Species\"),\n",
    "    title=\"Iris Species Predictor\",\n",
    "    description=\"Enter the dimensions of the iris flower to predict its species.\"\n",
    ")"
   ]
  },
  {
   "cell_type": "code",
   "execution_count": 4,
   "metadata": {},
   "outputs": [
    {
     "name": "stdout",
     "output_type": "stream",
     "text": [
      "Running on local URL:  http://127.0.0.1:7860\n",
      "\n",
      "To create a public link, set `share=True` in `launch()`.\n"
     ]
    },
    {
     "data": {
      "text/html": [
       "<div><iframe src=\"http://127.0.0.1:7860/\" width=\"100%\" height=\"500\" allow=\"autoplay; camera; microphone; clipboard-read; clipboard-write;\" frameborder=\"0\" allowfullscreen></iframe></div>"
      ],
      "text/plain": [
       "<IPython.core.display.HTML object>"
      ]
     },
     "metadata": {},
     "output_type": "display_data"
    },
    {
     "data": {
      "text/plain": []
     },
     "execution_count": 4,
     "metadata": {},
     "output_type": "execute_result"
    }
   ],
   "source": [
    "interface.launch()"
   ]
  },
  {
   "cell_type": "code",
   "execution_count": null,
   "metadata": {},
   "outputs": [],
   "source": []
  },
  {
   "cell_type": "code",
   "execution_count": null,
   "metadata": {},
   "outputs": [],
   "source": []
  }
 ],
 "metadata": {
  "kernelspec": {
   "display_name": "WEB_APP",
   "language": "python",
   "name": "python3"
  },
  "language_info": {
   "codemirror_mode": {
    "name": "ipython",
    "version": 3
   },
   "file_extension": ".py",
   "mimetype": "text/x-python",
   "name": "python",
   "nbconvert_exporter": "python",
   "pygments_lexer": "ipython3",
   "version": "3.10.13"
  }
 },
 "nbformat": 4,
 "nbformat_minor": 2
}
